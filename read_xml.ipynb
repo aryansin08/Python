{
 "cells": [
  {
   "cell_type": "code",
   "execution_count": 2,
   "metadata": {},
   "outputs": [
    {
     "name": "stdout",
     "output_type": "stream",
     "text": [
      "Enter location: http://py4e-data.dr-chuck.net/comments_697109.xml\n",
      "Retrieved 4218 characters\n",
      "2470\n"
     ]
    }
   ],
   "source": [
    "import urllib.request, urllib.parse, urllib.error\n",
    "import xml.etree.ElementTree as ET\n",
    "import ssl\n",
    "\n",
    "\n",
    "# Ignore SSL certificate errors\n",
    "ctx = ssl.create_default_context()\n",
    "ctx.check_hostname = False\n",
    "ctx.verify_mode = ssl.CERT_NONE\n",
    "\n",
    "address = input('Enter location: ')\n",
    "\n",
    "uh = urllib.request.urlopen(address, context=ctx)\n",
    "\n",
    "data = uh.read()\n",
    "print('Retrieved', len(data), 'characters')\n",
    "commentinfo = ET.fromstring(data)\n",
    "    \n",
    "results = commentinfo.findall('comments/comment')\n",
    "    \n",
    "s=0\n",
    "for item in results:\n",
    "    s+=int(item.find('count').text)\n",
    "print(s)\n",
    "   \n"
   ]
  },
  {
   "cell_type": "code",
   "execution_count": null,
   "metadata": {},
   "outputs": [],
   "source": []
  }
 ],
 "metadata": {
  "kernelspec": {
   "display_name": "Python 3",
   "language": "python",
   "name": "python3"
  },
  "language_info": {
   "codemirror_mode": {
    "name": "ipython",
    "version": 3
   },
   "file_extension": ".py",
   "mimetype": "text/x-python",
   "name": "python",
   "nbconvert_exporter": "python",
   "pygments_lexer": "ipython3",
   "version": "3.7.6"
  }
 },
 "nbformat": 4,
 "nbformat_minor": 4
}
